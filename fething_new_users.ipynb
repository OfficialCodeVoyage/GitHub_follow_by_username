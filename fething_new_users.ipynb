{
 "cells": [
  {
   "metadata": {
    "ExecuteTime": {
     "end_time": "2024-10-16T23:58:18.707985Z",
     "start_time": "2024-10-16T23:58:18.703958Z"
    }
   },
   "cell_type": "code",
   "source": [
    "import os\n",
    "import requests\n",
    "\n",
    "github_token = \"#\"## your github token"
   ],
   "id": "b91c72b336bd44c8",
   "outputs": [],
   "execution_count": 48
  },
  {
   "metadata": {
    "ExecuteTime": {
     "end_time": "2024-10-17T01:40:59.610303Z",
     "start_time": "2024-10-17T01:40:59.604896Z"
    }
   },
   "cell_type": "code",
   "source": [
    "def fething_users_from_github(users_to_fetch = 1, token = None) -> list:\n",
    "    scraped_users = []\n",
    "    \n",
    "    querry = 'language:python repos:>5 followers:>10'\n",
    "    url = \"https://api.github.com/search/users\"\n",
    "    params = {\n",
    "        'per_page' : users_to_fetch,\n",
    "        'since' : 0,\n",
    "        'q' : querry\n",
    "    \n",
    "    }\n",
    "    headers = {\n",
    "        'Authorization' : token\n",
    "    }\n",
    "    \n",
    "    try:\n",
    "        response = requests.get(url, params=params, headers=headers)\n",
    "        response.raise_for_status()\n",
    "        users = response.json().get('items', [])\n",
    "        \n",
    "        for user in users:\n",
    "            scraped_users.append(user['login'])\n",
    "\n",
    "    except requests.exceptions.HTTPError as e:\n",
    "        print(f\"Error: {e}\")\n",
    "    except requests.exceptions.RequestException as e:\n",
    "        print(f\"Error: {e}\")\n",
    "\n",
    "    return scraped_users"
   ],
   "id": "a4f14605767e6f53",
   "outputs": [],
   "execution_count": 77
  },
  {
   "metadata": {
    "ExecuteTime": {
     "end_time": "2024-10-17T01:41:01.602561Z",
     "start_time": "2024-10-17T01:41:00.955263Z"
    }
   },
   "cell_type": "code",
   "source": [
    "users = fething_users_from_github(50)\n",
    "print(users)\n",
    "print(len(users))"
   ],
   "id": "e781948fa8616f68",
   "outputs": [
    {
     "name": "stdout",
     "output_type": "stream",
     "text": [
      "['karpathy', 'openai', 'rafaballerini', 'google', 'geohot', 'huggingface', 'michaelliao', 'llSourcell', 'taylorotwell', '3b1b', 'ry', 'krishnaik06', 'kennethreitz', 'buckyroberts', 'tiangolo', 'facebookresearch', 'rasbt', 'jwasham', 'gvanrossum', 'python', 'techwithtim', 'mitsuhiko', 'MorvanZhou', 'donnemartin', 'elyxdev', 'Visualize-ML', 'BEPb', 'jakevdp', 'liyupi', 'fchollet', 'tensorflow', 'iam-veeramalla', 'chiphuyen', 'wesm', 'ageron', 'lllyasviel', 'goodfeli', 'fengdu78', 'breakwa11', 'angusshire', 'miguelgrinberg', 'leerob', 'aws-samples', 'Stability-AI', 'JohnHammond', 'GoogleCloudPlatform', 'jrohitofficial', 'amueller', 'htr-tech', 'mnielsen']\n",
      "50\n"
     ]
    }
   ],
   "execution_count": 78
  }
 ],
 "metadata": {
  "kernelspec": {
   "display_name": "Python 3",
   "language": "python",
   "name": "python3"
  },
  "language_info": {
   "codemirror_mode": {
    "name": "ipython",
    "version": 2
   },
   "file_extension": ".py",
   "mimetype": "text/x-python",
   "name": "python",
   "nbconvert_exporter": "python",
   "pygments_lexer": "ipython2",
   "version": "2.7.6"
  }
 },
 "nbformat": 4,
 "nbformat_minor": 5
}
